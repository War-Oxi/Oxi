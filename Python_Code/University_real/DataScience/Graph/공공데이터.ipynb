{
 "cells": [
  {
   "cell_type": "code",
   "execution_count": 8,
   "outputs": [
    {
     "name": "stdout",
     "output_type": "stream",
     "text": [
      "         년도     2022.03   2022.03.1   2022.03.2     2022.04   2022.04.1  \\\n",
      "0        인구    총인구수 (명)   남자인구수 (명)   여자인구수 (명)    총인구수 (명)   남자인구수 (명)   \n",
      "1        전국  51610695.0  25730584.0  25880111.0  51592660.0  25721053.0   \n",
      "2     서울특별시   9506778.0   4613910.0   4892868.0   9500480.0   4610082.0   \n",
      "3     부산광역시   3343504.0   1634958.0   1708546.0   3340214.0   1633170.0   \n",
      "4     대구광역시   2380494.0   1172632.0   1207862.0   2378573.0   1171451.0   \n",
      "5     인천광역시   2952699.0   1478272.0   1474427.0   2953260.0   1478514.0   \n",
      "6     광주광역시   1438463.0    711289.0    727174.0   1436916.0    710524.0   \n",
      "7     대전광역시   1450057.0    723361.0    726696.0   1449360.0    723063.0   \n",
      "8     울산광역시   1118010.0    574444.0    543566.0   1117204.0    573984.0   \n",
      "9   세종특별자치시    377296.0    188356.0    188940.0    378196.0    188778.0   \n",
      "10      경기도  13575936.0   6832830.0   6743106.0  13577808.0   6833859.0   \n",
      "11      강원도   1539036.0    774522.0    764514.0   1539038.0    774562.0   \n",
      "12     충청북도   1597484.0    811004.0    786480.0   1597284.0    811063.0   \n",
      "13     충청남도   2119099.0   1083753.0   1035346.0   2119296.0   1083970.0   \n",
      "14     전라북도   1782205.0    886928.0    895277.0   1780824.0    886274.0   \n",
      "15     전라남도   1829501.0    920971.0    908530.0   1828550.0    920492.0   \n",
      "16     경상북도   2619641.0   1320888.0   1298753.0   2617552.0   1320018.0   \n",
      "17     경상남도   3303274.0   1663146.0   1640128.0   3300692.0   1661866.0   \n",
      "18  제주특별자치도    677218.0    339320.0    337898.0    677413.0    339383.0   \n",
      "\n",
      "     2022.04.2     2022.05   2022.05.1   2022.05.2  \n",
      "0    여자인구수 (명)    총인구수 (명)   남자인구수 (명)   여자인구수 (명)  \n",
      "1   25871607.0  51583722.0  25715591.0  25868131.0  \n",
      "2    4890398.0   9496887.0   4607440.0   4889447.0  \n",
      "3    1707044.0   3338167.0   1631825.0   1706342.0  \n",
      "4    1207122.0   2376676.0   1170309.0   1206367.0  \n",
      "5    1474746.0   2955167.0   1479428.0   1475739.0  \n",
      "6     726392.0   1436012.0    710062.0    725950.0  \n",
      "7     726297.0   1448933.0    722840.0    726093.0  \n",
      "8     543220.0   1116482.0    573619.0    542863.0  \n",
      "9     189418.0    379340.0    189302.0    190038.0  \n",
      "10   6743949.0  13581496.0   6835968.0   6745528.0  \n",
      "11    764476.0   1539005.0    774458.0    764547.0  \n",
      "12    786221.0   1597033.0    811009.0    786024.0  \n",
      "13   1035326.0   2119661.0   1084296.0   1035365.0  \n",
      "14    894550.0   1779230.0    885475.0    893755.0  \n",
      "15    908058.0   1827674.0    920050.0    907624.0  \n",
      "16   1297534.0   2616177.0   1319332.0   1296845.0  \n",
      "17   1638826.0   3298016.0   1660600.0   1637416.0  \n",
      "18    338030.0    677766.0    339578.0    338188.0  \n",
      "년도                인구          전국      서울특별시      부산광역시      대구광역시      인천광역시  \\\n",
      "2022.03     총인구수 (명)  51610695.0  9506778.0  3343504.0  2380494.0  2952699.0   \n",
      "2022.03.1  남자인구수 (명)  25730584.0  4613910.0  1634958.0  1172632.0  1478272.0   \n",
      "2022.03.2  여자인구수 (명)  25880111.0  4892868.0  1708546.0  1207862.0  1474427.0   \n",
      "2022.04     총인구수 (명)  51592660.0  9500480.0  3340214.0  2378573.0  2953260.0   \n",
      "2022.04.1  남자인구수 (명)  25721053.0  4610082.0  1633170.0  1171451.0  1478514.0   \n",
      "2022.04.2  여자인구수 (명)  25871607.0  4890398.0  1707044.0  1207122.0  1474746.0   \n",
      "2022.05     총인구수 (명)  51583722.0  9496887.0  3338167.0  2376676.0  2955167.0   \n",
      "2022.05.1  남자인구수 (명)  25715591.0  4607440.0  1631825.0  1170309.0  1479428.0   \n",
      "2022.05.2  여자인구수 (명)  25868131.0  4889447.0  1706342.0  1206367.0  1475739.0   \n",
      "\n",
      "년도             광주광역시      대전광역시      울산광역시   세종특별자치시         경기도        강원도  \\\n",
      "2022.03    1438463.0  1450057.0  1118010.0  377296.0  13575936.0  1539036.0   \n",
      "2022.03.1   711289.0   723361.0   574444.0  188356.0   6832830.0   774522.0   \n",
      "2022.03.2   727174.0   726696.0   543566.0  188940.0   6743106.0   764514.0   \n",
      "2022.04    1436916.0  1449360.0  1117204.0  378196.0  13577808.0  1539038.0   \n",
      "2022.04.1   710524.0   723063.0   573984.0  188778.0   6833859.0   774562.0   \n",
      "2022.04.2   726392.0   726297.0   543220.0  189418.0   6743949.0   764476.0   \n",
      "2022.05    1436012.0  1448933.0  1116482.0  379340.0  13581496.0  1539005.0   \n",
      "2022.05.1   710062.0   722840.0   573619.0  189302.0   6835968.0   774458.0   \n",
      "2022.05.2   725950.0   726093.0   542863.0  190038.0   6745528.0   764547.0   \n",
      "\n",
      "년도              충청북도       충청남도       전라북도       전라남도       경상북도       경상남도  \\\n",
      "2022.03    1597484.0  2119099.0  1782205.0  1829501.0  2619641.0  3303274.0   \n",
      "2022.03.1   811004.0  1083753.0   886928.0   920971.0  1320888.0  1663146.0   \n",
      "2022.03.2   786480.0  1035346.0   895277.0   908530.0  1298753.0  1640128.0   \n",
      "2022.04    1597284.0  2119296.0  1780824.0  1828550.0  2617552.0  3300692.0   \n",
      "2022.04.1   811063.0  1083970.0   886274.0   920492.0  1320018.0  1661866.0   \n",
      "2022.04.2   786221.0  1035326.0   894550.0   908058.0  1297534.0  1638826.0   \n",
      "2022.05    1597033.0  2119661.0  1779230.0  1827674.0  2616177.0  3298016.0   \n",
      "2022.05.1   811009.0  1084296.0   885475.0   920050.0  1319332.0  1660600.0   \n",
      "2022.05.2   786024.0  1035365.0   893755.0   907624.0  1296845.0  1637416.0   \n",
      "\n",
      "년도          제주특별자치도  \n",
      "2022.03    677218.0  \n",
      "2022.03.1  339320.0  \n",
      "2022.03.2  337898.0  \n",
      "2022.04    677413.0  \n",
      "2022.04.1  339383.0  \n",
      "2022.04.2  338030.0  \n",
      "2022.05    677766.0  \n",
      "2022.05.1  339578.0  \n",
      "2022.05.2  338188.0  \n",
      "2022.03    51610695.0\n",
      "2022.04    51592660.0\n",
      "2022.05    51583722.0\n",
      "Name: 전국, dtype: object\n"
     ]
    },
    {
     "name": "stderr",
     "output_type": "stream",
     "text": [
      "/Users/kimtaeji/Code/Python_Code/University_real/venv/lib/python3.10/site-packages/openpyxl/styles/stylesheet.py:226: UserWarning: Workbook contains no default style, apply openpyxl's default\n",
      "  warn(\"Workbook contains no default style, apply openpyxl's default\")\n"
     ]
    },
    {
     "data": {
      "text/plain": "<Figure size 432x288 with 1 Axes>",
      "image/png": "[encoded data removed]"
     },
     "metadata": {
      "needs_background": "light"
     },
     "output_type": "display_data"
    },
    {
     "name": "stdout",
     "output_type": "stream",
     "text": [
      "2022.03    6832830.0\n",
      "2022.04    6833859.0\n",
      "2022.05    6835968.0\n",
      "Name: 경기도, dtype: object\n"
     ]
    }
   ],
   "source": [
    "import pandas as pd\n",
    "import matplotlib.pyplot as plt\n",
    "\n",
    "data = pd.read_excel('../data.xlsx')\n",
    "data.rename(columns={'행정구역(시군구)별':'년도'}, inplace=True)\n",
    "data.iat[0,0] = \"인구\"\n",
    "\n",
    "print(data)\n",
    "\n",
    "data = data.set_index('년도')\n",
    "# data_T = data.transpose()\n",
    "data_T = data.T\n",
    "#10행과 11행은 기능이 같음\n",
    "\n",
    "data1 = data_T['전국'][data_T['인구']==\"총인구수 (명)\"]\n",
    "print(data_T)\n",
    "print(data1)\n",
    "\n",
    "\n",
    "data_T = data.transpose()\n",
    "data_T = data.replace(\"총인구수 (명)\", \"전체\", inplace=True)\n",
    "data_T = data.replace(\"남자인구수 (명)\", \"남\", inplace=True)\n",
    "data_T = data.replace(\"여자인구수 (명)\", \"여\", inplace=True)\n",
    "\n",
    "# print(data2)\n",
    "\n",
    "column1 = data.columns\n",
    "column2 = data.loc['인구']\n",
    "\n",
    "data_R = data.T\n",
    "\n",
    "list_column = list(column1)\n",
    "count = len(list_column)\n",
    "\n",
    "for c in range(count):\n",
    "    temp = list_column[c].replace(\".1\", \"\")\n",
    "    temp = temp.replace(\".2\", \"\")\n",
    "    list_column[c] = temp\n",
    "\n",
    "data_R.index = list_column\n",
    "\n",
    "data1 = data_R['경기도'][data_R['인구'] == \"남\"]\n",
    "#특정 조건에 맞는 데이터 가져오기\n",
    "# print(data_R)\n",
    "plt.figure(num=\"인구 차트\")\n",
    "# plt.rcParams.update({'font.family'}:'malgun gothic','font.size':14)\n",
    "plt.rcParams.update({'font.family':'AppleGothic','font.size':14})\n",
    "plt.title(\"연도별 경기도 남자 인구수\")\n",
    "\n",
    "ax=plt.gca()\n",
    "# data1.plot(kind='bar', ax=ax)\n",
    "data1.plot(kind='line', ax=ax, marker='o')\n",
    "plt.xlabel(\"연도\")\n",
    "plt.ylabel(\"연도별 남자 인구\")\n",
    "plt.show()\n",
    "print(data1)\n",
    "\n",
    "#데이터시각화까지 진도"
   ],
   "metadata": {
    "collapsed": false,
    "pycharm": {
     "name": "#%%\n"
    }
   }
  },
  {
   "cell_type": "code",
   "execution_count": null,
   "outputs": [],
   "source": [],
   "metadata": {
    "collapsed": false,
    "pycharm": {
     "name": "#%%\n"
    }
   }
  }
 ],
 "metadata": {
  "kernelspec": {
   "display_name": "Python 3",
   "language": "python",
   "name": "python3"
  },
  "language_info": {
   "codemirror_mode": {
    "name": "ipython",
    "version": 2
   },
   "file_extension": ".py",
   "mimetype": "text/x-python",
   "name": "python",
   "nbconvert_exporter": "python",
   "pygments_lexer": "ipython2",
   "version": "2.7.6"
  }
 },
 "nbformat": 4,
 "nbformat_minor": 0
}