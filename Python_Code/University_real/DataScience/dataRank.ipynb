{
 "cells": [
  {
   "cell_type": "code",
   "execution_count": 17,
   "outputs": [
    {
     "name": "stdout",
     "output_type": "stream",
     "text": [
      "      학번    국어    영어    수학\n",
      "0   20.0  13.0  15.0   5.0\n",
      "1   19.0   1.0  18.0   8.0\n",
      "2   18.0   6.0   4.0   1.0\n",
      "3   17.0  11.0   6.0  18.0\n",
      "4   16.0   9.0   9.0   4.0\n",
      "5   15.0  15.0   3.0  15.0\n",
      "6   14.0   3.0  12.0   6.0\n",
      "7   13.0  10.0  11.0  19.0\n",
      "8   12.0   7.0  20.0  13.0\n",
      "9   11.0  19.0   8.0   6.0\n",
      "10  10.0   4.0   4.0  16.0\n",
      "11   9.0  11.0   2.0  19.0\n",
      "12   8.0   1.0   1.0   9.0\n",
      "13   7.0  14.0  15.0  17.0\n",
      "14   6.0  17.0  17.0  13.0\n",
      "15   5.0   7.0   7.0   3.0\n",
      "16   4.0  17.0  10.0   2.0\n",
      "17   3.0  16.0  13.0  11.0\n",
      "18   2.0   5.0  14.0  10.0\n",
      "19   1.0  20.0  19.0  12.0\n"
     ]
    }
   ],
   "source": [
    "#데이터 랭크 매기기\n",
    "import pandas as pd\n",
    "\n",
    "data = pd.read_csv('sample.csv')\n",
    "\n",
    "data_rank = data.rank(axis=0, method='min', ascending=False, numeric_only=True, na_option='top')\n",
    "#axis, method, ascending 다시알아보기\n",
    "#axis - 어떤 행을 쓸건지\n",
    "#method - 어떤 값을 쓸건지 ex)min,max,mean\n",
    "#ascending - 오름차순으로 할지, 내림차순으로 할지\n",
    "#numeric_only - True(숫자만사용하겠다)\n",
    "#na_option - 'top' or 'bottom'\n",
    "print(data_rank)"
   ],
   "metadata": {
    "collapsed": false,
    "pycharm": {
     "name": "#%%\n"
    }
   }
  },
  {
   "cell_type": "code",
   "execution_count": 18,
   "outputs": [
    {
     "name": "stdout",
     "output_type": "stream",
     "text": [
      "        학번  국어  영어   수학\n",
      "0   201001  64  60   84\n",
      "1   201002  98  55   79\n",
      "2   201003  82  94  100\n",
      "3   201004  69  93   52\n",
      "4   201005  78  75   85\n",
      "5   201006  58  96   60\n",
      "6   201007  95  70   80\n",
      "7   201008  71  73   51\n",
      "8   201009  81  52   62\n",
      "9   201010  51  87   80\n",
      "10  201011  89  94   56\n",
      "11  201012  69  98   51\n",
      "12  201013  98  99   77\n",
      "13  201014  62  60   54\n",
      "14  201015  53  58   62\n",
      "15  201016  81  88   87\n",
      "16  201017  53  74   98\n",
      "17  201018  56  67   68\n",
      "18  201019  87  65   70\n",
      "19  201020  50  54   66\n"
     ]
    }
   ],
   "source": [
    "print(data)"
   ],
   "metadata": {
    "collapsed": false,
    "pycharm": {
     "name": "#%%\n"
    }
   }
  }
 ],
 "metadata": {
  "kernelspec": {
   "display_name": "Python 3",
   "language": "python",
   "name": "python3"
  },
  "language_info": {
   "codemirror_mode": {
    "name": "ipython",
    "version": 2
   },
   "file_extension": ".py",
   "mimetype": "text/x-python",
   "name": "python",
   "nbconvert_exporter": "python",
   "pygments_lexer": "ipython2",
   "version": "2.7.6"
  }
 },
 "nbformat": 4,
 "nbformat_minor": 0
}