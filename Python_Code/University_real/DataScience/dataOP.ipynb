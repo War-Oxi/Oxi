{
 "cells": [
  {
   "cell_type": "code",
   "execution_count": 1,
   "outputs": [],
   "source": [
    "#최소값 구하기\n",
    "import pandas as pd\n",
    "data = pd.read_csv('sample.csv')"
   ],
   "metadata": {
    "collapsed": false,
    "pycharm": {
     "name": "#%%\n"
    }
   }
  },
  {
   "cell_type": "code",
   "execution_count": 6,
   "outputs": [
    {
     "name": "stdout",
     "output_type": "stream",
     "text": [
      "학번    201001\n",
      "국어        50\n",
      "영어        52\n",
      "수학        51\n",
      "dtype: int64\n"
     ]
    }
   ],
   "source": [
    "print(data.min(axis=0)) #열에서 가장 작은 값"
   ],
   "metadata": {
    "collapsed": false,
    "pycharm": {
     "name": "#%%\n"
    }
   }
  },
  {
   "cell_type": "code",
   "execution_count": 17,
   "outputs": [
    {
     "name": "stdout",
     "output_type": "stream",
     "text": [
      "0     60\n",
      "1     55\n",
      "2     82\n",
      "3     52\n",
      "4     75\n",
      "5     58\n",
      "6     70\n",
      "7     51\n",
      "8     52\n",
      "9     51\n",
      "10    56\n",
      "11    51\n",
      "12    77\n",
      "13    54\n",
      "14    53\n",
      "15    81\n",
      "16    53\n",
      "17    56\n",
      "18    65\n",
      "19    50\n",
      "dtype: int64\n"
     ]
    }
   ],
   "source": [
    "print(data.min(axis=1)) #행에서 가장 작은 값"
   ],
   "metadata": {
    "collapsed": false,
    "pycharm": {
     "name": "#%%\n"
    }
   }
  },
  {
   "cell_type": "code",
   "execution_count": 18,
   "outputs": [
    {
     "name": "stdout",
     "output_type": "stream",
     "text": [
      "학번    201020\n",
      "국어        98\n",
      "영어        99\n",
      "수학       100\n",
      "dtype: int64\n"
     ]
    }
   ],
   "source": [
    "#최댓값 구하기\n",
    "print(data.max(axis=0)) #열에서 가장 큰 값"
   ],
   "metadata": {
    "collapsed": false,
    "pycharm": {
     "name": "#%%\n"
    }
   }
  },
  {
   "cell_type": "code",
   "execution_count": 19,
   "outputs": [
    {
     "name": "stdout",
     "output_type": "stream",
     "text": [
      "0     201001\n",
      "1     201002\n",
      "2     201003\n",
      "3     201004\n",
      "4     201005\n",
      "5     201006\n",
      "6     201007\n",
      "7     201008\n",
      "8     201009\n",
      "9     201010\n",
      "10    201011\n",
      "11    201012\n",
      "12    201013\n",
      "13    201014\n",
      "14    201015\n",
      "15    201016\n",
      "16    201017\n",
      "17    201018\n",
      "18    201019\n",
      "19    201020\n",
      "dtype: int64\n"
     ]
    }
   ],
   "source": [
    "print(data.max(axis=1)) #행에서 가장 큰 값"
   ],
   "metadata": {
    "collapsed": false,
    "pycharm": {
     "name": "#%%\n"
    }
   }
  },
  {
   "cell_type": "code",
   "execution_count": 20,
   "outputs": [
    {
     "name": "stdout",
     "output_type": "stream",
     "text": [
      "학번    201010.50\n",
      "국어        72.25\n",
      "영어        75.60\n",
      "수학        71.10\n",
      "dtype: float64\n"
     ]
    }
   ],
   "source": [
    "#평균 구하기\n",
    "print(data.mean(axis=0))"
   ],
   "metadata": {
    "collapsed": false,
    "pycharm": {
     "name": "#%%\n"
    }
   }
  },
  {
   "cell_type": "code",
   "execution_count": 21,
   "outputs": [
    {
     "name": "stdout",
     "output_type": "stream",
     "text": [
      "0     50302.25\n",
      "1     50308.50\n",
      "2     50319.75\n",
      "3     50304.50\n",
      "4     50310.75\n",
      "5     50305.00\n",
      "6     50313.00\n",
      "7     50300.75\n",
      "8     50301.00\n",
      "9     50307.00\n",
      "10    50312.50\n",
      "11    50307.50\n",
      "12    50321.75\n",
      "13    50297.50\n",
      "14    50297.00\n",
      "15    50318.00\n",
      "16    50310.50\n",
      "17    50302.25\n",
      "18    50310.25\n",
      "19    50297.50\n",
      "dtype: float64\n"
     ]
    }
   ],
   "source": [
    "print(data.mean(axis=1))"
   ],
   "metadata": {
    "collapsed": false,
    "pycharm": {
     "name": "#%%\n"
    }
   }
  },
  {
   "cell_type": "code",
   "execution_count": 22,
   "outputs": [
    {
     "name": "stdout",
     "output_type": "stream",
     "text": [
      "학번    201010.5\n",
      "국어        70.0\n",
      "영어        73.5\n",
      "수학        69.0\n",
      "dtype: float64\n"
     ]
    }
   ],
   "source": [
    "#중간 값 구하기\n",
    "print(data.median(axis=0))"
   ],
   "metadata": {
    "collapsed": false,
    "pycharm": {
     "name": "#%%\n"
    }
   }
  },
  {
   "cell_type": "code",
   "execution_count": 23,
   "outputs": [
    {
     "name": "stdout",
     "output_type": "stream",
     "text": [
      "0     74.0\n",
      "1     88.5\n",
      "2     97.0\n",
      "3     81.0\n",
      "4     81.5\n",
      "5     78.0\n",
      "6     87.5\n",
      "7     72.0\n",
      "8     71.5\n",
      "9     83.5\n",
      "10    91.5\n",
      "11    83.5\n",
      "12    98.5\n",
      "13    61.0\n",
      "14    60.0\n",
      "15    87.5\n",
      "16    86.0\n",
      "17    67.5\n",
      "18    78.5\n",
      "19    60.0\n",
      "dtype: float64\n"
     ]
    }
   ],
   "source": [
    "print(data.median(axis=1)) # 데이터가 짝수 개일 경우 중간에 해당하는 값2개를 구하고 이 두개의 평균을 구함"
   ],
   "metadata": {
    "collapsed": false,
    "pycharm": {
     "name": "#%%\n"
    }
   }
  }
 ],
 "metadata": {
  "kernelspec": {
   "display_name": "Python 3",
   "language": "python",
   "name": "python3"
  },
  "language_info": {
   "codemirror_mode": {
    "name": "ipython",
    "version": 2
   },
   "file_extension": ".py",
   "mimetype": "text/x-python",
   "name": "python",
   "nbconvert_exporter": "python",
   "pygments_lexer": "ipython2",
   "version": "2.7.6"
  }
 },
 "nbformat": 4,
 "nbformat_minor": 0
}