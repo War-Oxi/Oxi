{
 "cells": [
  {
   "cell_type": "code",
   "execution_count": 1,
   "outputs": [
    {
     "ename": "XLRDError",
     "evalue": "Unsupported format, or corrupt file: Expected BOF record; found b'\"\\xc7\\xe0\\xc1\\xa4\\xb1\\xb8\\xbf'",
     "output_type": "error",
     "traceback": [
      "\u001B[1;31m---------------------------------------------------------------------------\u001B[0m",
      "\u001B[1;31mXLRDError\u001B[0m                                 Traceback (most recent call last)",
      "\u001B[1;32m<ipython-input-1-03e04b8852a9>\u001B[0m in \u001B[0;36m<module>\u001B[1;34m\u001B[0m\n\u001B[0;32m      2\u001B[0m \u001B[1;32mimport\u001B[0m \u001B[0mmatplotlib\u001B[0m\u001B[1;33m.\u001B[0m\u001B[0mpyplot\u001B[0m \u001B[1;32mas\u001B[0m \u001B[0mplt\u001B[0m\u001B[1;33m\u001B[0m\u001B[1;33m\u001B[0m\u001B[0m\n\u001B[0;32m      3\u001B[0m \u001B[1;33m\u001B[0m\u001B[0m\n\u001B[1;32m----> 4\u001B[1;33m \u001B[0mdata\u001B[0m \u001B[1;33m=\u001B[0m \u001B[0mpd\u001B[0m\u001B[1;33m.\u001B[0m\u001B[0mread_excel\u001B[0m\u001B[1;33m(\u001B[0m\u001B[1;34m'../data.csv'\u001B[0m\u001B[1;33m)\u001B[0m\u001B[1;33m\u001B[0m\u001B[1;33m\u001B[0m\u001B[0m\n\u001B[0m\u001B[0;32m      5\u001B[0m \u001B[0mdata\u001B[0m\u001B[1;33m.\u001B[0m\u001B[0mrename\u001B[0m\u001B[1;33m(\u001B[0m\u001B[0mcolumns\u001B[0m\u001B[1;33m=\u001B[0m\u001B[1;33m{\u001B[0m\u001B[1;34m'행정구역(시군구)별'\u001B[0m\u001B[1;33m:\u001B[0m\u001B[1;34m'년도'\u001B[0m\u001B[1;33m}\u001B[0m\u001B[1;33m,\u001B[0m \u001B[0minplace\u001B[0m\u001B[1;33m=\u001B[0m\u001B[1;32mTrue\u001B[0m\u001B[1;33m)\u001B[0m\u001B[1;33m\u001B[0m\u001B[1;33m\u001B[0m\u001B[0m\n\u001B[0;32m      6\u001B[0m \u001B[0mdata\u001B[0m\u001B[1;33m.\u001B[0m\u001B[0miat\u001B[0m\u001B[1;33m[\u001B[0m\u001B[1;36m0\u001B[0m\u001B[1;33m,\u001B[0m\u001B[1;36m0\u001B[0m\u001B[1;33m]\u001B[0m \u001B[1;33m=\u001B[0m \u001B[1;34m\"인구\"\u001B[0m\u001B[1;33m\u001B[0m\u001B[1;33m\u001B[0m\u001B[0m\n",
      "\u001B[1;32mc:\\users\\oxi\\appdata\\local\\programs\\python\\python37\\lib\\site-packages\\pandas\\util\\_decorators.py\u001B[0m in \u001B[0;36mwrapper\u001B[1;34m(*args, **kwargs)\u001B[0m\n\u001B[0;32m    294\u001B[0m                 )\n\u001B[0;32m    295\u001B[0m                 \u001B[0mwarnings\u001B[0m\u001B[1;33m.\u001B[0m\u001B[0mwarn\u001B[0m\u001B[1;33m(\u001B[0m\u001B[0mmsg\u001B[0m\u001B[1;33m,\u001B[0m \u001B[0mFutureWarning\u001B[0m\u001B[1;33m,\u001B[0m \u001B[0mstacklevel\u001B[0m\u001B[1;33m=\u001B[0m\u001B[0mstacklevel\u001B[0m\u001B[1;33m)\u001B[0m\u001B[1;33m\u001B[0m\u001B[1;33m\u001B[0m\u001B[0m\n\u001B[1;32m--> 296\u001B[1;33m             \u001B[1;32mreturn\u001B[0m \u001B[0mfunc\u001B[0m\u001B[1;33m(\u001B[0m\u001B[1;33m*\u001B[0m\u001B[0margs\u001B[0m\u001B[1;33m,\u001B[0m \u001B[1;33m**\u001B[0m\u001B[0mkwargs\u001B[0m\u001B[1;33m)\u001B[0m\u001B[1;33m\u001B[0m\u001B[1;33m\u001B[0m\u001B[0m\n\u001B[0m\u001B[0;32m    297\u001B[0m \u001B[1;33m\u001B[0m\u001B[0m\n\u001B[0;32m    298\u001B[0m         \u001B[1;32mreturn\u001B[0m \u001B[0mwrapper\u001B[0m\u001B[1;33m\u001B[0m\u001B[1;33m\u001B[0m\u001B[0m\n",
      "\u001B[1;32mc:\\users\\oxi\\appdata\\local\\programs\\python\\python37\\lib\\site-packages\\pandas\\io\\excel\\_base.py\u001B[0m in \u001B[0;36mread_excel\u001B[1;34m(io, sheet_name, header, names, index_col, usecols, squeeze, dtype, engine, converters, true_values, false_values, skiprows, nrows, na_values, keep_default_na, na_filter, verbose, parse_dates, date_parser, thousands, comment, skipfooter, convert_float, mangle_dupe_cols)\u001B[0m\n\u001B[0;32m    302\u001B[0m \u001B[1;33m\u001B[0m\u001B[0m\n\u001B[0;32m    303\u001B[0m     \u001B[1;32mif\u001B[0m \u001B[1;32mnot\u001B[0m \u001B[0misinstance\u001B[0m\u001B[1;33m(\u001B[0m\u001B[0mio\u001B[0m\u001B[1;33m,\u001B[0m \u001B[0mExcelFile\u001B[0m\u001B[1;33m)\u001B[0m\u001B[1;33m:\u001B[0m\u001B[1;33m\u001B[0m\u001B[1;33m\u001B[0m\u001B[0m\n\u001B[1;32m--> 304\u001B[1;33m         \u001B[0mio\u001B[0m \u001B[1;33m=\u001B[0m \u001B[0mExcelFile\u001B[0m\u001B[1;33m(\u001B[0m\u001B[0mio\u001B[0m\u001B[1;33m,\u001B[0m \u001B[0mengine\u001B[0m\u001B[1;33m=\u001B[0m\u001B[0mengine\u001B[0m\u001B[1;33m)\u001B[0m\u001B[1;33m\u001B[0m\u001B[1;33m\u001B[0m\u001B[0m\n\u001B[0m\u001B[0;32m    305\u001B[0m     \u001B[1;32melif\u001B[0m \u001B[0mengine\u001B[0m \u001B[1;32mand\u001B[0m \u001B[0mengine\u001B[0m \u001B[1;33m!=\u001B[0m \u001B[0mio\u001B[0m\u001B[1;33m.\u001B[0m\u001B[0mengine\u001B[0m\u001B[1;33m:\u001B[0m\u001B[1;33m\u001B[0m\u001B[1;33m\u001B[0m\u001B[0m\n\u001B[0;32m    306\u001B[0m         raise ValueError(\n",
      "\u001B[1;32mc:\\users\\oxi\\appdata\\local\\programs\\python\\python37\\lib\\site-packages\\pandas\\io\\excel\\_base.py\u001B[0m in \u001B[0;36m__init__\u001B[1;34m(self, path_or_buffer, engine)\u001B[0m\n\u001B[0;32m    865\u001B[0m         \u001B[0mself\u001B[0m\u001B[1;33m.\u001B[0m\u001B[0m_io\u001B[0m \u001B[1;33m=\u001B[0m \u001B[0mstringify_path\u001B[0m\u001B[1;33m(\u001B[0m\u001B[0mpath_or_buffer\u001B[0m\u001B[1;33m)\u001B[0m\u001B[1;33m\u001B[0m\u001B[1;33m\u001B[0m\u001B[0m\n\u001B[0;32m    866\u001B[0m \u001B[1;33m\u001B[0m\u001B[0m\n\u001B[1;32m--> 867\u001B[1;33m         \u001B[0mself\u001B[0m\u001B[1;33m.\u001B[0m\u001B[0m_reader\u001B[0m \u001B[1;33m=\u001B[0m \u001B[0mself\u001B[0m\u001B[1;33m.\u001B[0m\u001B[0m_engines\u001B[0m\u001B[1;33m[\u001B[0m\u001B[0mengine\u001B[0m\u001B[1;33m]\u001B[0m\u001B[1;33m(\u001B[0m\u001B[0mself\u001B[0m\u001B[1;33m.\u001B[0m\u001B[0m_io\u001B[0m\u001B[1;33m)\u001B[0m\u001B[1;33m\u001B[0m\u001B[1;33m\u001B[0m\u001B[0m\n\u001B[0m\u001B[0;32m    868\u001B[0m \u001B[1;33m\u001B[0m\u001B[0m\n\u001B[0;32m    869\u001B[0m     \u001B[1;32mdef\u001B[0m \u001B[0m__fspath__\u001B[0m\u001B[1;33m(\u001B[0m\u001B[0mself\u001B[0m\u001B[1;33m)\u001B[0m\u001B[1;33m:\u001B[0m\u001B[1;33m\u001B[0m\u001B[1;33m\u001B[0m\u001B[0m\n",
      "\u001B[1;32mc:\\users\\oxi\\appdata\\local\\programs\\python\\python37\\lib\\site-packages\\pandas\\io\\excel\\_xlrd.py\u001B[0m in \u001B[0;36m__init__\u001B[1;34m(self, filepath_or_buffer)\u001B[0m\n\u001B[0;32m     20\u001B[0m         \u001B[0merr_msg\u001B[0m \u001B[1;33m=\u001B[0m \u001B[1;34m\"Install xlrd >= 1.0.0 for Excel support\"\u001B[0m\u001B[1;33m\u001B[0m\u001B[1;33m\u001B[0m\u001B[0m\n\u001B[0;32m     21\u001B[0m         \u001B[0mimport_optional_dependency\u001B[0m\u001B[1;33m(\u001B[0m\u001B[1;34m\"xlrd\"\u001B[0m\u001B[1;33m,\u001B[0m \u001B[0mextra\u001B[0m\u001B[1;33m=\u001B[0m\u001B[0merr_msg\u001B[0m\u001B[1;33m)\u001B[0m\u001B[1;33m\u001B[0m\u001B[1;33m\u001B[0m\u001B[0m\n\u001B[1;32m---> 22\u001B[1;33m         \u001B[0msuper\u001B[0m\u001B[1;33m(\u001B[0m\u001B[1;33m)\u001B[0m\u001B[1;33m.\u001B[0m\u001B[0m__init__\u001B[0m\u001B[1;33m(\u001B[0m\u001B[0mfilepath_or_buffer\u001B[0m\u001B[1;33m)\u001B[0m\u001B[1;33m\u001B[0m\u001B[1;33m\u001B[0m\u001B[0m\n\u001B[0m\u001B[0;32m     23\u001B[0m \u001B[1;33m\u001B[0m\u001B[0m\n\u001B[0;32m     24\u001B[0m     \u001B[1;33m@\u001B[0m\u001B[0mproperty\u001B[0m\u001B[1;33m\u001B[0m\u001B[1;33m\u001B[0m\u001B[0m\n",
      "\u001B[1;32mc:\\users\\oxi\\appdata\\local\\programs\\python\\python37\\lib\\site-packages\\pandas\\io\\excel\\_base.py\u001B[0m in \u001B[0;36m__init__\u001B[1;34m(self, filepath_or_buffer)\u001B[0m\n\u001B[0;32m    351\u001B[0m             \u001B[0mself\u001B[0m\u001B[1;33m.\u001B[0m\u001B[0mbook\u001B[0m \u001B[1;33m=\u001B[0m \u001B[0mself\u001B[0m\u001B[1;33m.\u001B[0m\u001B[0mload_workbook\u001B[0m\u001B[1;33m(\u001B[0m\u001B[0mfilepath_or_buffer\u001B[0m\u001B[1;33m)\u001B[0m\u001B[1;33m\u001B[0m\u001B[1;33m\u001B[0m\u001B[0m\n\u001B[0;32m    352\u001B[0m         \u001B[1;32melif\u001B[0m \u001B[0misinstance\u001B[0m\u001B[1;33m(\u001B[0m\u001B[0mfilepath_or_buffer\u001B[0m\u001B[1;33m,\u001B[0m \u001B[0mstr\u001B[0m\u001B[1;33m)\u001B[0m\u001B[1;33m:\u001B[0m\u001B[1;33m\u001B[0m\u001B[1;33m\u001B[0m\u001B[0m\n\u001B[1;32m--> 353\u001B[1;33m             \u001B[0mself\u001B[0m\u001B[1;33m.\u001B[0m\u001B[0mbook\u001B[0m \u001B[1;33m=\u001B[0m \u001B[0mself\u001B[0m\u001B[1;33m.\u001B[0m\u001B[0mload_workbook\u001B[0m\u001B[1;33m(\u001B[0m\u001B[0mfilepath_or_buffer\u001B[0m\u001B[1;33m)\u001B[0m\u001B[1;33m\u001B[0m\u001B[1;33m\u001B[0m\u001B[0m\n\u001B[0m\u001B[0;32m    354\u001B[0m         \u001B[1;32melif\u001B[0m \u001B[0misinstance\u001B[0m\u001B[1;33m(\u001B[0m\u001B[0mfilepath_or_buffer\u001B[0m\u001B[1;33m,\u001B[0m \u001B[0mbytes\u001B[0m\u001B[1;33m)\u001B[0m\u001B[1;33m:\u001B[0m\u001B[1;33m\u001B[0m\u001B[1;33m\u001B[0m\u001B[0m\n\u001B[0;32m    355\u001B[0m             \u001B[0mself\u001B[0m\u001B[1;33m.\u001B[0m\u001B[0mbook\u001B[0m \u001B[1;33m=\u001B[0m \u001B[0mself\u001B[0m\u001B[1;33m.\u001B[0m\u001B[0mload_workbook\u001B[0m\u001B[1;33m(\u001B[0m\u001B[0mBytesIO\u001B[0m\u001B[1;33m(\u001B[0m\u001B[0mfilepath_or_buffer\u001B[0m\u001B[1;33m)\u001B[0m\u001B[1;33m)\u001B[0m\u001B[1;33m\u001B[0m\u001B[1;33m\u001B[0m\u001B[0m\n",
      "\u001B[1;32mc:\\users\\oxi\\appdata\\local\\programs\\python\\python37\\lib\\site-packages\\pandas\\io\\excel\\_xlrd.py\u001B[0m in \u001B[0;36mload_workbook\u001B[1;34m(self, filepath_or_buffer)\u001B[0m\n\u001B[0;32m     35\u001B[0m             \u001B[1;32mreturn\u001B[0m \u001B[0mopen_workbook\u001B[0m\u001B[1;33m(\u001B[0m\u001B[0mfile_contents\u001B[0m\u001B[1;33m=\u001B[0m\u001B[0mdata\u001B[0m\u001B[1;33m)\u001B[0m\u001B[1;33m\u001B[0m\u001B[1;33m\u001B[0m\u001B[0m\n\u001B[0;32m     36\u001B[0m         \u001B[1;32melse\u001B[0m\u001B[1;33m:\u001B[0m\u001B[1;33m\u001B[0m\u001B[1;33m\u001B[0m\u001B[0m\n\u001B[1;32m---> 37\u001B[1;33m             \u001B[1;32mreturn\u001B[0m \u001B[0mopen_workbook\u001B[0m\u001B[1;33m(\u001B[0m\u001B[0mfilepath_or_buffer\u001B[0m\u001B[1;33m)\u001B[0m\u001B[1;33m\u001B[0m\u001B[1;33m\u001B[0m\u001B[0m\n\u001B[0m\u001B[0;32m     38\u001B[0m \u001B[1;33m\u001B[0m\u001B[0m\n\u001B[0;32m     39\u001B[0m     \u001B[1;33m@\u001B[0m\u001B[0mproperty\u001B[0m\u001B[1;33m\u001B[0m\u001B[1;33m\u001B[0m\u001B[0m\n",
      "\u001B[1;32mc:\\users\\oxi\\appdata\\local\\programs\\python\\python37\\lib\\site-packages\\xlrd\\__init__.py\u001B[0m in \u001B[0;36mopen_workbook\u001B[1;34m(filename, logfile, verbosity, use_mmap, file_contents, encoding_override, formatting_info, on_demand, ragged_rows)\u001B[0m\n\u001B[0;32m    155\u001B[0m         \u001B[0mformatting_info\u001B[0m\u001B[1;33m=\u001B[0m\u001B[0mformatting_info\u001B[0m\u001B[1;33m,\u001B[0m\u001B[1;33m\u001B[0m\u001B[1;33m\u001B[0m\u001B[0m\n\u001B[0;32m    156\u001B[0m         \u001B[0mon_demand\u001B[0m\u001B[1;33m=\u001B[0m\u001B[0mon_demand\u001B[0m\u001B[1;33m,\u001B[0m\u001B[1;33m\u001B[0m\u001B[1;33m\u001B[0m\u001B[0m\n\u001B[1;32m--> 157\u001B[1;33m         \u001B[0mragged_rows\u001B[0m\u001B[1;33m=\u001B[0m\u001B[0mragged_rows\u001B[0m\u001B[1;33m,\u001B[0m\u001B[1;33m\u001B[0m\u001B[1;33m\u001B[0m\u001B[0m\n\u001B[0m\u001B[0;32m    158\u001B[0m     )\n\u001B[0;32m    159\u001B[0m     \u001B[1;32mreturn\u001B[0m \u001B[0mbk\u001B[0m\u001B[1;33m\u001B[0m\u001B[1;33m\u001B[0m\u001B[0m\n",
      "\u001B[1;32mc:\\users\\oxi\\appdata\\local\\programs\\python\\python37\\lib\\site-packages\\xlrd\\book.py\u001B[0m in \u001B[0;36mopen_workbook_xls\u001B[1;34m(filename, logfile, verbosity, use_mmap, file_contents, encoding_override, formatting_info, on_demand, ragged_rows)\u001B[0m\n\u001B[0;32m     90\u001B[0m         \u001B[0mt1\u001B[0m \u001B[1;33m=\u001B[0m \u001B[0mperf_counter\u001B[0m\u001B[1;33m(\u001B[0m\u001B[1;33m)\u001B[0m\u001B[1;33m\u001B[0m\u001B[1;33m\u001B[0m\u001B[0m\n\u001B[0;32m     91\u001B[0m         \u001B[0mbk\u001B[0m\u001B[1;33m.\u001B[0m\u001B[0mload_time_stage_1\u001B[0m \u001B[1;33m=\u001B[0m \u001B[0mt1\u001B[0m \u001B[1;33m-\u001B[0m \u001B[0mt0\u001B[0m\u001B[1;33m\u001B[0m\u001B[1;33m\u001B[0m\u001B[0m\n\u001B[1;32m---> 92\u001B[1;33m         \u001B[0mbiff_version\u001B[0m \u001B[1;33m=\u001B[0m \u001B[0mbk\u001B[0m\u001B[1;33m.\u001B[0m\u001B[0mgetbof\u001B[0m\u001B[1;33m(\u001B[0m\u001B[0mXL_WORKBOOK_GLOBALS\u001B[0m\u001B[1;33m)\u001B[0m\u001B[1;33m\u001B[0m\u001B[1;33m\u001B[0m\u001B[0m\n\u001B[0m\u001B[0;32m     93\u001B[0m         \u001B[1;32mif\u001B[0m \u001B[1;32mnot\u001B[0m \u001B[0mbiff_version\u001B[0m\u001B[1;33m:\u001B[0m\u001B[1;33m\u001B[0m\u001B[1;33m\u001B[0m\u001B[0m\n\u001B[0;32m     94\u001B[0m             \u001B[1;32mraise\u001B[0m \u001B[0mXLRDError\u001B[0m\u001B[1;33m(\u001B[0m\u001B[1;34m\"Can't determine file's BIFF version\"\u001B[0m\u001B[1;33m)\u001B[0m\u001B[1;33m\u001B[0m\u001B[1;33m\u001B[0m\u001B[0m\n",
      "\u001B[1;32mc:\\users\\oxi\\appdata\\local\\programs\\python\\python37\\lib\\site-packages\\xlrd\\book.py\u001B[0m in \u001B[0;36mgetbof\u001B[1;34m(self, rqd_stream)\u001B[0m\n\u001B[0;32m   1276\u001B[0m             \u001B[0mbof_error\u001B[0m\u001B[1;33m(\u001B[0m\u001B[1;34m'Expected BOF record; met end of file'\u001B[0m\u001B[1;33m)\u001B[0m\u001B[1;33m\u001B[0m\u001B[1;33m\u001B[0m\u001B[0m\n\u001B[0;32m   1277\u001B[0m         \u001B[1;32mif\u001B[0m \u001B[0mopcode\u001B[0m \u001B[1;32mnot\u001B[0m \u001B[1;32min\u001B[0m \u001B[0mbofcodes\u001B[0m\u001B[1;33m:\u001B[0m\u001B[1;33m\u001B[0m\u001B[1;33m\u001B[0m\u001B[0m\n\u001B[1;32m-> 1278\u001B[1;33m             \u001B[0mbof_error\u001B[0m\u001B[1;33m(\u001B[0m\u001B[1;34m'Expected BOF record; found %r'\u001B[0m \u001B[1;33m%\u001B[0m \u001B[0mself\u001B[0m\u001B[1;33m.\u001B[0m\u001B[0mmem\u001B[0m\u001B[1;33m[\u001B[0m\u001B[0msavpos\u001B[0m\u001B[1;33m:\u001B[0m\u001B[0msavpos\u001B[0m\u001B[1;33m+\u001B[0m\u001B[1;36m8\u001B[0m\u001B[1;33m]\u001B[0m\u001B[1;33m)\u001B[0m\u001B[1;33m\u001B[0m\u001B[1;33m\u001B[0m\u001B[0m\n\u001B[0m\u001B[0;32m   1279\u001B[0m         \u001B[0mlength\u001B[0m \u001B[1;33m=\u001B[0m \u001B[0mself\u001B[0m\u001B[1;33m.\u001B[0m\u001B[0mget2bytes\u001B[0m\u001B[1;33m(\u001B[0m\u001B[1;33m)\u001B[0m\u001B[1;33m\u001B[0m\u001B[1;33m\u001B[0m\u001B[0m\n\u001B[0;32m   1280\u001B[0m         \u001B[1;32mif\u001B[0m \u001B[0mlength\u001B[0m \u001B[1;33m==\u001B[0m \u001B[0mMY_EOF\u001B[0m\u001B[1;33m:\u001B[0m\u001B[1;33m\u001B[0m\u001B[1;33m\u001B[0m\u001B[0m\n",
      "\u001B[1;32mc:\\users\\oxi\\appdata\\local\\programs\\python\\python37\\lib\\site-packages\\xlrd\\book.py\u001B[0m in \u001B[0;36mbof_error\u001B[1;34m(msg)\u001B[0m\n\u001B[0;32m   1270\u001B[0m \u001B[1;33m\u001B[0m\u001B[0m\n\u001B[0;32m   1271\u001B[0m         \u001B[1;32mdef\u001B[0m \u001B[0mbof_error\u001B[0m\u001B[1;33m(\u001B[0m\u001B[0mmsg\u001B[0m\u001B[1;33m)\u001B[0m\u001B[1;33m:\u001B[0m\u001B[1;33m\u001B[0m\u001B[1;33m\u001B[0m\u001B[0m\n\u001B[1;32m-> 1272\u001B[1;33m             \u001B[1;32mraise\u001B[0m \u001B[0mXLRDError\u001B[0m\u001B[1;33m(\u001B[0m\u001B[1;34m'Unsupported format, or corrupt file: '\u001B[0m \u001B[1;33m+\u001B[0m \u001B[0mmsg\u001B[0m\u001B[1;33m)\u001B[0m\u001B[1;33m\u001B[0m\u001B[1;33m\u001B[0m\u001B[0m\n\u001B[0m\u001B[0;32m   1273\u001B[0m         \u001B[0msavpos\u001B[0m \u001B[1;33m=\u001B[0m \u001B[0mself\u001B[0m\u001B[1;33m.\u001B[0m\u001B[0m_position\u001B[0m\u001B[1;33m\u001B[0m\u001B[1;33m\u001B[0m\u001B[0m\n\u001B[0;32m   1274\u001B[0m         \u001B[0mopcode\u001B[0m \u001B[1;33m=\u001B[0m \u001B[0mself\u001B[0m\u001B[1;33m.\u001B[0m\u001B[0mget2bytes\u001B[0m\u001B[1;33m(\u001B[0m\u001B[1;33m)\u001B[0m\u001B[1;33m\u001B[0m\u001B[1;33m\u001B[0m\u001B[0m\n",
      "\u001B[1;31mXLRDError\u001B[0m: Unsupported format, or corrupt file: Expected BOF record; found b'\"\\xc7\\xe0\\xc1\\xa4\\xb1\\xb8\\xbf'"
     ]
    }
   ],
   "source": [
    "import pandas as pd\n",
    "import matplotlib.pyplot as plt\n",
    "\n",
    "data = pd.read_excel('../data.csv')\n",
    "data.rename(columns={'행정구역(시군구)별':'년도'}, inplace=True)\n",
    "data.iat[0,0] = \"인구\"\n",
    "\n",
    "print(data)\n",
    "\n",
    "data = data.set_index('년도')\n",
    "# data_T = data.transpose()\n",
    "data_T = data.T\n",
    "#10행과 11행은 기능이 같음\n",
    "\n",
    "# data1 = data_T['전국'][data_T['인구']==\"총인구수 (명)\"]\n",
    "print(data_T)\n",
    "# print(data1)\n",
    "\n",
    "\n",
    "data_T = data.transpose()\n",
    "data_T = data.replace(\"총인구수 (명)\", \"전체\", inplace=True)\n",
    "data_T = data.replace(\"남자인구수 (명)\", \"남\", inplace=True)\n",
    "data_T = data.replace(\"여자인구수 (명)\", \"여\", inplace=True)\n",
    "\n",
    "# print(data2)\n",
    "\n",
    "column1 = data.columns\n",
    "# column2 = data.loc['인구']\n",
    "\n",
    "data_R = data.T\n",
    "\n",
    "list_column = list(column1)\n",
    "count = len(list_column)\n",
    "\n",
    "for c in range(count):\n",
    "    temp = list_column[c].replace(\".1\", \"\")\n",
    "    temp = temp.replace(\".2\", \"\")\n",
    "    list_column[c] = temp\n",
    "\n",
    "data_R.index = list_column\n",
    "\n",
    "# data1 = data_R['경기도'][data_R['인구'] == \"남\"]\n",
    "#특정 조건에 맞는 데이터 가져오기\n",
    "# print(data_R)\n",
    "plt.figure(num=\"인구 차트\")\n",
    "plt.rcParams.update({'font.family':'malgun gothic','font.size':14})\n",
    "# plt.rcParams.update({'font.family':'AppleGothic','font.size':14})\n",
    "plt.title(\"연도별 경기도 남자 인구수\")\n",
    "\n",
    "ax=plt.gca()\n",
    "data1.plot(kind='bar', ax=ax)\n",
    "data1.plot(kind='line', ax=ax, marker='o')\n",
    "plt.xlabel(\"연도\")\n",
    "plt.ylabel(\"연도별 남자 인구\")\n",
    "plt.show()\n",
    "print(data1)\n",
    "\n",
    "#데이터시각화까지 진도"
   ],
   "metadata": {
    "collapsed": false,
    "pycharm": {
     "name": "#%%\n"
    }
   }
  },
  {
   "cell_type": "code",
<<<<<<< HEAD
   "execution_count": 1,
   "outputs": [],
   "source": [],
=======
   "execution_count": 2,
   "outputs": [
    {
     "name": "stderr",
     "output_type": "stream",
     "text": [
      "c:\\users\\oxi\\appdata\\local\\programs\\python\\python37\\lib\\site-packages\\openpyxl\\styles\\stylesheet.py:226: UserWarning: Workbook contains no default style, apply openpyxl's default\n",
      "  warn(\"Workbook contains no default style, apply openpyxl's default\")\n"
     ]
    },
    {
     "ename": "IndexError",
     "evalue": "index 0 is out of bounds for axis 0 with size 0",
     "output_type": "error",
     "traceback": [
      "\u001B[1;31m---------------------------------------------------------------------------\u001B[0m",
      "\u001B[1;31mIndexError\u001B[0m                                Traceback (most recent call last)",
      "\u001B[1;32m<ipython-input-2-f72671da5aea>\u001B[0m in \u001B[0;36m<module>\u001B[1;34m\u001B[0m\n\u001B[0;32m      4\u001B[0m \u001B[0mdata\u001B[0m \u001B[1;33m=\u001B[0m \u001B[0mpd\u001B[0m\u001B[1;33m.\u001B[0m\u001B[0mread_excel\u001B[0m\u001B[1;33m(\u001B[0m\u001B[1;34m'../data.xlsx'\u001B[0m\u001B[1;33m,\u001B[0m\u001B[0mengine\u001B[0m\u001B[1;33m=\u001B[0m\u001B[1;34m'openpyxl'\u001B[0m\u001B[1;33m)\u001B[0m\u001B[1;33m\u001B[0m\u001B[1;33m\u001B[0m\u001B[0m\n\u001B[0;32m      5\u001B[0m \u001B[0mdata\u001B[0m\u001B[1;33m.\u001B[0m\u001B[0mrename\u001B[0m\u001B[1;33m(\u001B[0m\u001B[0mcolumns\u001B[0m\u001B[1;33m=\u001B[0m\u001B[1;33m{\u001B[0m\u001B[1;34m'행정구역(시군구)별'\u001B[0m\u001B[1;33m:\u001B[0m\u001B[1;34m'년도'\u001B[0m\u001B[1;33m}\u001B[0m\u001B[1;33m,\u001B[0m \u001B[0minplace\u001B[0m\u001B[1;33m=\u001B[0m\u001B[1;32mTrue\u001B[0m\u001B[1;33m)\u001B[0m\u001B[1;33m\u001B[0m\u001B[1;33m\u001B[0m\u001B[0m\n\u001B[1;32m----> 6\u001B[1;33m \u001B[0mdata\u001B[0m\u001B[1;33m.\u001B[0m\u001B[0miat\u001B[0m\u001B[1;33m[\u001B[0m\u001B[1;36m0\u001B[0m\u001B[1;33m,\u001B[0m\u001B[1;36m0\u001B[0m\u001B[1;33m]\u001B[0m\u001B[1;33m=\u001B[0m\u001B[1;34m\"인구\"\u001B[0m\u001B[1;33m\u001B[0m\u001B[1;33m\u001B[0m\u001B[0m\n\u001B[0m\u001B[0;32m      7\u001B[0m \u001B[1;33m\u001B[0m\u001B[0m\n\u001B[0;32m      8\u001B[0m \u001B[0mdata\u001B[0m \u001B[1;33m=\u001B[0m \u001B[0mdata\u001B[0m\u001B[1;33m.\u001B[0m\u001B[0mset_index\u001B[0m\u001B[1;33m(\u001B[0m\u001B[1;34m'년도'\u001B[0m\u001B[1;33m)\u001B[0m\u001B[1;33m\u001B[0m\u001B[1;33m\u001B[0m\u001B[0m\n",
      "\u001B[1;32mc:\\users\\oxi\\appdata\\local\\programs\\python\\python37\\lib\\site-packages\\pandas\\core\\indexing.py\u001B[0m in \u001B[0;36m__setitem__\u001B[1;34m(self, key, value)\u001B[0m\n\u001B[0;32m   2038\u001B[0m             \u001B[1;32mraise\u001B[0m \u001B[0mValueError\u001B[0m\u001B[1;33m(\u001B[0m\u001B[1;34m\"Not enough indexers for scalar access (setting)!\"\u001B[0m\u001B[1;33m)\u001B[0m\u001B[1;33m\u001B[0m\u001B[1;33m\u001B[0m\u001B[0m\n\u001B[0;32m   2039\u001B[0m \u001B[1;33m\u001B[0m\u001B[0m\n\u001B[1;32m-> 2040\u001B[1;33m         \u001B[0mself\u001B[0m\u001B[1;33m.\u001B[0m\u001B[0mobj\u001B[0m\u001B[1;33m.\u001B[0m\u001B[0m_set_value\u001B[0m\u001B[1;33m(\u001B[0m\u001B[1;33m*\u001B[0m\u001B[0mkey\u001B[0m\u001B[1;33m,\u001B[0m \u001B[0mvalue\u001B[0m\u001B[1;33m=\u001B[0m\u001B[0mvalue\u001B[0m\u001B[1;33m,\u001B[0m \u001B[0mtakeable\u001B[0m\u001B[1;33m=\u001B[0m\u001B[0mself\u001B[0m\u001B[1;33m.\u001B[0m\u001B[0m_takeable\u001B[0m\u001B[1;33m)\u001B[0m\u001B[1;33m\u001B[0m\u001B[1;33m\u001B[0m\u001B[0m\n\u001B[0m\u001B[0;32m   2041\u001B[0m \u001B[1;33m\u001B[0m\u001B[0m\n\u001B[0;32m   2042\u001B[0m \u001B[1;33m\u001B[0m\u001B[0m\n",
      "\u001B[1;32mc:\\users\\oxi\\appdata\\local\\programs\\python\\python37\\lib\\site-packages\\pandas\\core\\frame.py\u001B[0m in \u001B[0;36m_set_value\u001B[1;34m(self, index, col, value, takeable)\u001B[0m\n\u001B[0;32m   3141\u001B[0m             \u001B[1;32mif\u001B[0m \u001B[0mtakeable\u001B[0m \u001B[1;32mis\u001B[0m \u001B[1;32mTrue\u001B[0m\u001B[1;33m:\u001B[0m\u001B[1;33m\u001B[0m\u001B[1;33m\u001B[0m\u001B[0m\n\u001B[0;32m   3142\u001B[0m                 \u001B[0mseries\u001B[0m \u001B[1;33m=\u001B[0m \u001B[0mself\u001B[0m\u001B[1;33m.\u001B[0m\u001B[0m_ixs\u001B[0m\u001B[1;33m(\u001B[0m\u001B[0mcol\u001B[0m\u001B[1;33m,\u001B[0m \u001B[0maxis\u001B[0m\u001B[1;33m=\u001B[0m\u001B[1;36m1\u001B[0m\u001B[1;33m)\u001B[0m\u001B[1;33m\u001B[0m\u001B[1;33m\u001B[0m\u001B[0m\n\u001B[1;32m-> 3143\u001B[1;33m                 \u001B[0mseries\u001B[0m\u001B[1;33m.\u001B[0m\u001B[0m_set_value\u001B[0m\u001B[1;33m(\u001B[0m\u001B[0mindex\u001B[0m\u001B[1;33m,\u001B[0m \u001B[0mvalue\u001B[0m\u001B[1;33m,\u001B[0m \u001B[0mtakeable\u001B[0m\u001B[1;33m=\u001B[0m\u001B[1;32mTrue\u001B[0m\u001B[1;33m)\u001B[0m\u001B[1;33m\u001B[0m\u001B[1;33m\u001B[0m\u001B[0m\n\u001B[0m\u001B[0;32m   3144\u001B[0m                 \u001B[1;32mreturn\u001B[0m\u001B[1;33m\u001B[0m\u001B[1;33m\u001B[0m\u001B[0m\n\u001B[0;32m   3145\u001B[0m \u001B[1;33m\u001B[0m\u001B[0m\n",
      "\u001B[1;32mc:\\users\\oxi\\appdata\\local\\programs\\python\\python37\\lib\\site-packages\\pandas\\core\\series.py\u001B[0m in \u001B[0;36m_set_value\u001B[1;34m(self, label, value, takeable)\u001B[0m\n\u001B[0;32m   1094\u001B[0m         \u001B[1;32mtry\u001B[0m\u001B[1;33m:\u001B[0m\u001B[1;33m\u001B[0m\u001B[1;33m\u001B[0m\u001B[0m\n\u001B[0;32m   1095\u001B[0m             \u001B[1;32mif\u001B[0m \u001B[0mtakeable\u001B[0m\u001B[1;33m:\u001B[0m\u001B[1;33m\u001B[0m\u001B[1;33m\u001B[0m\u001B[0m\n\u001B[1;32m-> 1096\u001B[1;33m                 \u001B[0mself\u001B[0m\u001B[1;33m.\u001B[0m\u001B[0m_values\u001B[0m\u001B[1;33m[\u001B[0m\u001B[0mlabel\u001B[0m\u001B[1;33m]\u001B[0m \u001B[1;33m=\u001B[0m \u001B[0mvalue\u001B[0m\u001B[1;33m\u001B[0m\u001B[1;33m\u001B[0m\u001B[0m\n\u001B[0m\u001B[0;32m   1097\u001B[0m             \u001B[1;32melse\u001B[0m\u001B[1;33m:\u001B[0m\u001B[1;33m\u001B[0m\u001B[1;33m\u001B[0m\u001B[0m\n\u001B[0;32m   1098\u001B[0m                 \u001B[0mloc\u001B[0m \u001B[1;33m=\u001B[0m \u001B[0mself\u001B[0m\u001B[1;33m.\u001B[0m\u001B[0mindex\u001B[0m\u001B[1;33m.\u001B[0m\u001B[0mget_loc\u001B[0m\u001B[1;33m(\u001B[0m\u001B[0mlabel\u001B[0m\u001B[1;33m)\u001B[0m\u001B[1;33m\u001B[0m\u001B[1;33m\u001B[0m\u001B[0m\n",
      "\u001B[1;31mIndexError\u001B[0m: index 0 is out of bounds for axis 0 with size 0"
     ]
    }
   ],
   "source": [
    "import pandas as pd\n",
    "import matplotlib.pyplot as plt\n",
    "\n",
    "data = pd.read_excel('../data.xlsx',engine='openpyxl')\n",
    "data.rename(columns={'행정구역(시군구)별':'년도'}, inplace=True)\n",
    "data.iat[0,0]=\"인구\"\n",
    "\n",
    "data = data.set_index('년도')\n",
    "\n",
    "data.replace(\"총인구수 (명)\", \"전체\", inplace=True)\n",
    "data.replace(\"남자인구수 (명)\", \"남\", inplace=True)\n",
    "data.replace(\"여자인구수 (명)\", \"여\", inplace=True)\n",
    "\n",
    "column1 = data.columns\n",
    "column2 = data.loc['인구']\n",
    "\n",
    "#data_T = data.transpose()\n",
    "data_T = data.T\n",
    "\n",
    "list_column = list(column1)\n",
    "count = len(list_column)\n",
    "\n",
    "for c in range(count):\n",
    "    temp = list_column[c].replace(\".1\", \"\")\n",
    "    temp = temp.replace(\".2\", \"\")\n",
    "    list_column[c] = temp\n",
    "\n",
    "data_T.index = list_column\n",
    "\n",
    "# data1 = data_T['경기도'][data_T['인구']==\"남\"]\n",
    "\n",
    "plt.figure(num=\"인구 차트\")\n",
    "plt.rcParams.update({'font.family':'malgun gothic', 'font.size':12})\n",
    "plt.title(\"연도별 경기도 남자 인구수\")\n",
    "\n",
    "ax=plt.gca()\n",
    "data_T.plot(kind='line', ax=ax, marker='o')\n",
    "plt.xlabel(\"연도\")\n",
    "plt.ylabel(\"남자인구수\")\n",
    "\n",
    "plt.show()"
   ],
>>>>>>> dab38de5619e9d734419ed2259d9f6b7db4b09d5
   "metadata": {
    "collapsed": false,
    "pycharm": {
     "name": "#%%\n"
    }
   }
  }
 ],
 "metadata": {
  "kernelspec": {
   "display_name": "Python 3",
   "language": "python",
   "name": "python3"
  },
  "language_info": {
   "codemirror_mode": {
    "name": "ipython",
    "version": 2
   },
   "file_extension": ".py",
   "mimetype": "text/x-python",
   "name": "python",
   "nbconvert_exporter": "python",
   "pygments_lexer": "ipython2",
   "version": "2.7.6"
  }
 },
 "nbformat": 4,
 "nbformat_minor": 0
}