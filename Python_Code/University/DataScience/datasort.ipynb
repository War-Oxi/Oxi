{
 "cells": [
  {
   "cell_type": "code",
   "execution_count": 24,
   "outputs": [],
   "source": [
    "import pandas as pd\n",
    "\n",
    "data = pd.read_csv(\"sample.csv\")"
   ],
   "metadata": {
    "collapsed": false,
    "pycharm": {
     "name": "#%%\n"
    }
   }
  },
  {
   "cell_type": "code",
   "execution_count": 25,
   "outputs": [
    {
     "name": "stdout",
     "output_type": "stream",
     "text": [
      "        학번  국어  영어   수학\n",
      "19  201020  50  54   66\n",
      "18  201019  87  65   70\n",
      "17  201018  56  67   68\n",
      "16  201017  53  74   98\n",
      "15  201016  81  88   87\n",
      "14  201015  53  58   62\n",
      "13  201014  62  60   54\n",
      "12  201013  98  99   77\n",
      "11  201012  69  98   51\n",
      "10  201011  89  94   56\n",
      "9   201010  51  87   80\n",
      "8   201009  81  52   62\n",
      "7   201008  71  73   51\n",
      "6   201007  95  70   80\n",
      "5   201006  58  96   60\n",
      "4   201005  78  75   85\n",
      "3   201004  69  93   52\n",
      "2   201003  82  94  100\n",
      "1   201002  98  55   79\n",
      "0   201001  64  60   84\n"
     ]
    }
   ],
   "source": [
    "#인덱스를 정렬\n",
    "sort_index1 = data.sort_index(axis=0, ascending=False) #axis는 행과 열을 나타낼 때 쓰임 0=특정 열의 행값 1=특정 행의 열값 ascending=True(오름차순) ascending=False(내림차순)\n",
    "print(sort_index1)"
   ],
   "metadata": {
    "collapsed": false,
    "pycharm": {
     "name": "#%%\n"
    }
   }
  },
  {
   "cell_type": "code",
   "execution_count": 26,
   "outputs": [
    {
     "name": "stdout",
     "output_type": "stream",
     "text": [
      "    국어   수학  영어      학번\n",
      "0   64   84  60  201001\n",
      "1   98   79  55  201002\n",
      "2   82  100  94  201003\n",
      "3   69   52  93  201004\n",
      "4   78   85  75  201005\n",
      "5   58   60  96  201006\n",
      "6   95   80  70  201007\n",
      "7   71   51  73  201008\n",
      "8   81   62  52  201009\n",
      "9   51   80  87  201010\n",
      "10  89   56  94  201011\n",
      "11  69   51  98  201012\n",
      "12  98   77  99  201013\n",
      "13  62   54  60  201014\n",
      "14  53   62  58  201015\n",
      "15  81   87  88  201016\n",
      "16  53   98  74  201017\n",
      "17  56   68  67  201018\n",
      "18  87   70  65  201019\n",
      "19  50   66  54  201020\n"
     ]
    }
   ],
   "source": [
    "sort_index2 = data.sort_index(axis=1, ascending=True)\n",
    "print(sort_index2)"
   ],
   "metadata": {
    "collapsed": false,
    "pycharm": {
     "name": "#%%\n"
    }
   }
  },
  {
   "cell_type": "code",
   "execution_count": 29,
   "outputs": [
    {
     "name": "stdout",
     "output_type": "stream",
     "text": [
      "        학번  국어  영어   수학\n",
      "8   201009  81  52   62\n",
      "19  201020  50  54   66\n",
      "1   201002  98  55   79\n",
      "14  201015  53  58   62\n",
      "13  201014  62  60   54\n",
      "0   201001  64  60   84\n",
      "18  201019  87  65   70\n",
      "17  201018  56  67   68\n",
      "6   201007  95  70   80\n",
      "7   201008  71  73   51\n",
      "16  201017  53  74   98\n",
      "4   201005  78  75   85\n",
      "9   201010  51  87   80\n",
      "15  201016  81  88   87\n",
      "3   201004  69  93   52\n",
      "10  201011  89  94   56\n",
      "2   201003  82  94  100\n",
      "5   201006  58  96   60\n",
      "11  201012  69  98   51\n",
      "12  201013  98  99   77\n"
     ]
    }
   ],
   "source": [
    "#data_value값을 기준으로 정렬\n",
    "data_sort1 = data.sort_values(axis=0, by='영어', ascending=True)\n",
    "print(data_sort1)"
   ],
   "metadata": {
    "collapsed": false,
    "pycharm": {
     "name": "#%%\n"
    }
   }
  },
  {
   "cell_type": "code",
   "execution_count": 33,
   "outputs": [
    {
     "name": "stdout",
     "output_type": "stream",
     "text": [
      "    영어   수학  국어      학번\n",
      "0   60   84  64  201001\n",
      "1   55   79  98  201002\n",
      "2   94  100  82  201003\n",
      "3   93   52  69  201004\n",
      "4   75   85  78  201005\n",
      "5   96   60  58  201006\n",
      "6   70   80  95  201007\n",
      "7   73   51  71  201008\n",
      "8   52   62  81  201009\n",
      "9   87   80  51  201010\n",
      "10  94   56  89  201011\n",
      "11  98   51  69  201012\n",
      "12  99   77  98  201013\n",
      "13  60   54  62  201014\n",
      "14  58   62  53  201015\n",
      "15  88   87  81  201016\n",
      "16  74   98  53  201017\n",
      "17  67   68  56  201018\n",
      "18  65   70  87  201019\n",
      "19  54   66  50  201020\n"
     ]
    }
   ],
   "source": [
    "data_sort2 = data.sort_values(axis=1, by=2, ascending=True) #axis=1(열을 기준) by=2(조금 이따 설명)\n",
    "print(data_sort2)"
   ],
   "metadata": {
    "collapsed": false,
    "pycharm": {
     "name": "#%%\n"
    }
   }
  },
  {
   "cell_type": "code",
   "execution_count": null,
   "outputs": [],
   "source": [],
   "metadata": {
    "collapsed": false,
    "pycharm": {
     "name": "#%%\n"
    }
   }
  }
 ],
 "metadata": {
  "kernelspec": {
   "display_name": "Python 3",
   "language": "python",
   "name": "python3"
  },
  "language_info": {
   "codemirror_mode": {
    "name": "ipython",
    "version": 2
   },
   "file_extension": ".py",
   "mimetype": "text/x-python",
   "name": "python",
   "nbconvert_exporter": "python",
   "pygments_lexer": "ipython2",
   "version": "2.7.6"
  }
 },
 "nbformat": 4,
 "nbformat_minor": 0
}